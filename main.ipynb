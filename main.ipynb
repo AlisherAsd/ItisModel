{
 "cells": [
  {
   "cell_type": "code",
   "execution_count": null,
   "metadata": {},
   "outputs": [],
   "source": [
    "import os\n",
    "import numpy as np\n",
    "import tensorflow as tf\n",
    "import matplotlib.pyplot as plt\n",
    "from PIL import Image\n",
    "from google.colab import drive\n",
    "drive.mount('/content/drive')\n",
    "#"
   ]
  },
  {
   "cell_type": "markdown",
   "metadata": {},
   "source": [
    "Функиця images_to_array принимает на вход путь к датасету, после чего перебирает все папки в ней, и конвертирует изорбраэения в массив чисел (0 - 255) (оттенки серого), также в зависимости от папки, в массив labels добавляются числа 0 - 9 которые означают к какому классу относятся изображения в папке. "
   ]
  },
  {
   "cell_type": "code",
   "execution_count": null,
   "metadata": {},
   "outputs": [],
   "source": [
    "def images_to_array(folder_path):\n",
    "    images = [] # массив изображений\n",
    "    labels = [] # массив меток для определения классов\n",
    "    cn = [] # массив названия классов (зависит от названия папки)\n",
    "    x = -1\n",
    "    for folder in os.listdir(folder_path):\n",
    "      x += 1\n",
    "      name = os.path.basename(folder)\n",
    "      cn.append(name) # добавляем название класса\n",
    "      path = folder_path + name\n",
    "      for filename in os.listdir(path):\n",
    "          labels.append(x) # добавляем метку\n",
    "          if filename.endswith('.png') or filename.endswith('.jpg'):\n",
    "              img_path = os.path.join(path, filename)\n",
    "              img = Image.open(img_path).convert('L')  # Конвертируем в градации серого\n",
    "              img_array = np.array(img)\n",
    "              images.append(img_array)\n",
    "\n",
    "    # Объединяем все изображения в один массив\n",
    "    return  [images, labels, cn]\n"
   ]
  },
  {
   "cell_type": "code",
   "execution_count": null,
   "metadata": {},
   "outputs": [],
   "source": [
    "# путь к датасету\n",
    "path = '/content/drive/MyDrive/' "
   ]
  },
  {
   "cell_type": "code",
   "execution_count": null,
   "metadata": {},
   "outputs": [],
   "source": [
    "# получаем тренировачные данные\n",
    "train = images_to_array(path)\n",
    "print(train[0], train[1], train[2])"
   ]
  },
  {
   "cell_type": "code",
   "execution_count": null,
   "metadata": {},
   "outputs": [],
   "source": [
    "train_images = train[0]\n",
    "\n",
    "train_labels = train[1]\n",
    "class_names = train[2]\n",
    "print(train_labels, class_names)"
   ]
  },
  {
   "cell_type": "code",
   "execution_count": null,
   "metadata": {},
   "outputs": [],
   "source": [
    "# просмотр изображения\n",
    "plt.figure()\n",
    "plt.imshow(train_images[0])\n",
    "plt.colorbar()\n",
    "plt.grid(False)\n",
    "plt.show()"
   ]
  },
  {
   "cell_type": "code",
   "execution_count": null,
   "metadata": {},
   "outputs": [],
   "source": [
    "# просмотр изображений\n",
    "plt.figure(figsize=(10,10))\n",
    "for i in range(25):\n",
    "    plt.subplot(5,5,i+1)\n",
    "    plt.xticks([])\n",
    "    plt.yticks([])\n",
    "    plt.grid(False)\n",
    "    plt.imshow(train_images[i], cmap=plt.cm.binary)\n",
    "    plt.xlabel(class_names[train_labels[i]])\n",
    "plt.show()"
   ]
  },
  {
   "cell_type": "code",
   "execution_count": null,
   "metadata": {},
   "outputs": [],
   "source": [
    "# нормализируем данные, так как в массивах числа от 1 до 255\n",
    "train_images = train_images / 255.0"
   ]
  },
  {
   "cell_type": "code",
   "execution_count": null,
   "metadata": {},
   "outputs": [],
   "source": [
    "# модель для обучения \n",
    "model = tf.keras.Sequential([\n",
    "    tf.keras.layers.Flatten(input_shape=(320, 320)),\n",
    "    tf.keras.layers.Dense(256, activation='relu'),\n",
    "    tf.keras.layers.Dense(9)\n",
    "])\n",
    "\n",
    "model.compile(optimizer='adam',\n",
    "              loss=tf.keras.losses.SparseCategoricalCrossentropy(from_logits=True),\n",
    "              metrics=['accuracy'])"
   ]
  },
  {
   "cell_type": "code",
   "execution_count": null,
   "metadata": {},
   "outputs": [],
   "source": [
    "# обучаем модель\n",
    "model.fit(train_images, train_labels, epochs=10)"
   ]
  },
  {
   "cell_type": "code",
   "execution_count": null,
   "metadata": {},
   "outputs": [],
   "source": [
    "probability_model = tf.keras.Sequential([model, \n",
    "                                         tf.keras.layers.Softmax()])"
   ]
  },
  {
   "cell_type": "code",
   "execution_count": null,
   "metadata": {},
   "outputs": [],
   "source": [
    "# создаем предсказания для тренировочного сета и вводит нужное изображение\n",
    "predictions = probability_model.predict(test_images)\n",
    "index_predict = int(input(\"Enter index img for predict: \"))"
   ]
  },
  {
   "cell_type": "code",
   "execution_count": null,
   "metadata": {},
   "outputs": [],
   "source": [
    "# вывод предсказание модель, и метка из тренировочного сета\n",
    "np.argmax(predictions[index_predict])\n",
    "test_labels[index_predict]"
   ]
  }
 ],
 "metadata": {
  "language_info": {
   "name": "python"
  }
 },
 "nbformat": 4,
 "nbformat_minor": 2
}
